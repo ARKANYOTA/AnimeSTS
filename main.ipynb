{
 "cells": [
  {
   "cell_type": "code",
   "execution_count": 1,
   "metadata": {},
   "outputs": [
    {
     "name": "stdout",
     "output_type": "stream",
     "text": [
      "Found existing installation: ffmpeg 1.4\n",
      "Uninstalling ffmpeg-1.4:\n",
      "  Successfully uninstalled ffmpeg-1.4\n",
      "Note: you may need to restart the kernel to use updated packages.\n",
      "Found existing installation: ffmpeg-python 0.2.0\n",
      "Uninstalling ffmpeg-python-0.2.0:\n",
      "  Successfully uninstalled ffmpeg-python-0.2.0\n",
      "Note: you may need to restart the kernel to use updated packages.\n"
     ]
    }
   ],
   "source": [
    "%pip uninstall ffmpeg --yes\n",
    "%pip uninstall ffmpeg-python --yes"
   ]
  },
  {
   "cell_type": "code",
   "execution_count": 2,
   "metadata": {},
   "outputs": [
    {
     "name": "stdout",
     "output_type": "stream",
     "text": [
      "Collecting ffmpeg-python\n",
      "  Using cached ffmpeg_python-0.2.0-py3-none-any.whl (25 kB)\n",
      "Requirement already satisfied: future in /usr/local/python/3.10.4/lib/python3.10/site-packages (from ffmpeg-python) (0.18.3)\n",
      "Installing collected packages: ffmpeg-python\n",
      "Successfully installed ffmpeg-python-0.2.0\n",
      "Note: you may need to restart the kernel to use updated packages.\n"
     ]
    }
   ],
   "source": [
    "%pip install spleeter\n",
    "%pip install ffmpeg-python\n",
    "!sudo apt update -y\n",
    "!sudo apt install ffmpeg -y"
   ]
  },
  {
   "cell_type": "code",
   "execution_count": 9,
   "metadata": {},
   "outputs": [
    {
     "name": "stdout",
     "output_type": "stream",
     "text": [
      "tar: pretrained_models/2stems: Not found in archive\n",
      "tar: Exiting with failure status due to previous errors\n"
     ]
    }
   ],
   "source": [
    "# install https://github.com/deezer/spleeter/releases/download/v1.4.0/2stems.tar.gz in ./pretrained_models/2stems/2stems.tar.gz\n",
    "# extract him\n",
    "# !tar -xvf pretrained_models/2stems/2stems.tar.gz"
   ]
  },
  {
   "cell_type": "code",
   "execution_count": 12,
   "metadata": {},
   "outputs": [],
   "source": [
    "# https://github.com/deezer/spleeter/wiki/4.-API-Reference#separator\n",
    "from spleeter.separator import Separator\n",
    "import tensorflow as tf\n",
    "\n",
    "# Using embedded configuration.\n",
    "separator = Separator('spleeter:2stems')"
   ]
  },
  {
   "cell_type": "code",
   "execution_count": 13,
   "metadata": {},
   "outputs": [],
   "source": [
    "FILE_PATH = \"input.wav\"  # Ep1 LogHorizon Season 3 English sub"
   ]
  },
  {
   "cell_type": "code",
   "execution_count": 14,
   "metadata": {},
   "outputs": [
    {
     "name": "stdout",
     "output_type": "stream",
     "text": [
      "INFO:tensorflow:Apply unet for vocals_spectrogram\n",
      "INFO:tensorflow:Apply unet for accompaniment_spectrogram\n",
      "INFO:tensorflow:Restoring parameters from pretrained_models/2stems/model\n"
     ]
    },
    {
     "name": "stderr",
     "output_type": "stream",
     "text": [
      "2023-03-25 13:14:55.519881: W tensorflow/tsl/framework/cpu_allocator_impl.cc:83] Allocation of 169558848 exceeds 10% of free system memory.\n"
     ]
    },
    {
     "name": "stdout",
     "output_type": "stream",
     "text": [
      "INFO:spleeter:File output/input/vocals.wav written succesfully\n",
      "INFO:spleeter:File output/input/accompaniment.wav written succesfully\n"
     ]
    }
   ],
   "source": [
    "separator.separate_to_file(FILE_PATH, 'output/')"
   ]
  },
  {
   "cell_type": "code",
   "execution_count": null,
   "metadata": {},
   "outputs": [],
   "source": []
  }
 ],
 "metadata": {
  "kernelspec": {
   "display_name": "Python 3",
   "language": "python",
   "name": "python3"
  },
  "language_info": {
   "codemirror_mode": {
    "name": "ipython",
    "version": 3
   },
   "file_extension": ".py",
   "mimetype": "text/x-python",
   "name": "python",
   "nbconvert_exporter": "python",
   "pygments_lexer": "ipython3",
   "version": "3.10.4"
  },
  "orig_nbformat": 4
 },
 "nbformat": 4,
 "nbformat_minor": 2
}
