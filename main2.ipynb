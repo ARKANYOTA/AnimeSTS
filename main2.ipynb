{
    "cells": [
     {
      "cell_type": "code",
      "execution_count": null,
      "metadata": {},
      "outputs": [],
      "source": [
       "from IPython.display import SVG, display\n",
       "def show_svg():\n",
       "    display(SVG('images/mermaid-diagram.svg'))\n",
       "show_svg()"
      ]
     },
     {
      "attachments": {},
      "cell_type": "markdown",
      "metadata": {},
      "source": [
       "[![](https://mermaid.ink/img/pako:eNpNUsFugzAM_RWUE51SeucwqVUvmzZNGqiTBj1kxG2tQoyCWbe1_fc5lG5FMnKen58fOEdVkQWVqk1Nh2pnPEdPr6WL5JkX894iJQfzuY6m0_toEWdtjayjJcAP-FnX1gAMfjLyA-mU7bGN0LGn0-KCLwReUVVQz23PM0lN3Q2q__V5VRUS1LTGQQOOb-qCC-OR0MXhNU4LqcAiGqgXTKTDrIfx9BCvCCuI0IogbrAyjOR09NKCMzh722HXintpyZGbIkmSHL5Yo9VMDnRDZEcLoR5oeRZLTIYPEuXQMiSD29HkrZUsz2OJ0bJkQcQb19WGYZS-HqVUG7ft2Bd3Sed5fdv0YTr4g0untGrANwatbO4YiKXinfy4UqWSWuP3pSrdWXimZ8q-XaVS9j1o1bdWhi3RbL1pVLqRXQgKFpn88-UqDDdCK1nFO9GVc_4FHqSy5g?type=png)](https://mermaid.live/edit#pako:eNpNUsFugzAM_RWUE51SeucwqVUvmzZNGqiTBj1kxG2tQoyCWbe1_fc5lG5FMnKen58fOEdVkQWVqk1Nh2pnPEdPr6WL5JkX894iJQfzuY6m0_toEWdtjayjJcAP-FnX1gAMfjLyA-mU7bGN0LGn0-KCLwReUVVQz23PM0lN3Q2q__V5VRUS1LTGQQOOb-qCC-OR0MXhNU4LqcAiGqgXTKTDrIfx9BCvCCuI0IogbrAyjOR09NKCMzh722HXintpyZGbIkmSHL5Yo9VMDnRDZEcLoR5oeRZLTIYPEuXQMiSD29HkrZUsz2OJ0bJkQcQb19WGYZS-HqVUG7ft2Bd3Sed5fdv0YTr4g0untGrANwatbO4YiKXinfy4UqWSWuP3pSrdWXimZ8q-XaVS9j1o1bdWhi3RbL1pVLqRXQgKFpn88-UqDDdCK1nFO9GVc_4FHqSy5g)"
      ]
     },
     {
      "cell_type": "code",
      "execution_count": null,
      "metadata": {},
      "outputs": [],
      "source": [
       "%pip uninstall ffmpeg --yes\n",
       "%pip uninstall ffmpeg-python --yes"
      ]
     },
     {
      "cell_type": "code",
      "execution_count": null,
      "metadata": {},
      "outputs": [],
      "source": [
       "%pip install spleeter\n",
       "%pip install ffmpeg-python\n",
       "!sudo apt update -y\n",
       "!sudo apt install ffmpeg -y"
      ]
     },
     {
      "cell_type": "code",
      "execution_count": null,
      "metadata": {},
      "outputs": [],
      "source": [
       "%pip install -U openai-whisper\n",
       "%pip install auto_subtitle"
      ]
     },
     {
      "cell_type": "code",
      "execution_count": null,
      "metadata": {},
      "outputs": [],
      "source": [
       "!mkdir -p pretrained_models/2stems\n",
       "# install https://github.com/deezer/spleeter/releases/download/v1.4.0/2stems.tar.gz in ./pretrained_models/2stems/2stems.tar.gz\n",
       "# extract him\n",
       "!tar -xvf pretrained_models/2stems/2stems.tar.gz\n",
       "!mv ./._checkpoint checkpoint model.data-00000-of-00001 model.index model.meta ./pretrained_models/2stems/"
      ]
     },
     {
      "cell_type": "code",
      "execution_count": 2,
      "metadata": {},
      "outputs": [
       {
        "name": "stderr",
        "output_type": "stream",
        "text": [
         "2023-03-25 23:03:20.966827: I tensorflow/core/platform/cpu_feature_guard.cc:182] This TensorFlow binary is optimized to use available CPU instructions in performance-critical operations.\n",
         "To enable the following instructions: AVX2 AVX512F FMA, in other operations, rebuild TensorFlow with the appropriate compiler flags.\n",
         "2023-03-25 23:03:25.352148: W tensorflow/compiler/tf2tensorrt/utils/py_utils.cc:38] TF-TRT Warning: Could not find TensorRT\n"
        ]
       }
      ],
      "source": [
       "# https://github.com/deezer/spleeter/wiki/4.-API-Reference#separator\n",
       "from spleeter.separator import Separator\n",
       "import tensorflow as tf\n",
       "\n",
       "# Using embedded configuration.\n",
       "separator = Separator('spleeter:2stems')"
      ]
     },
     {
      "cell_type": "code",
      "execution_count": 5,
      "metadata": {},
      "outputs": [],
      "source": [
       "FILE_PATH = \"input.wav\"  # Ep1 LogHorizon Season 3 English sub"
      ]
     },
     {
      "cell_type": "code",
      "execution_count": null,
      "metadata": {},
      "outputs": [],
      "source": [
       "separator.separate_to_file(FILE_PATH, 'output/')"
      ]
     },
     {
      "cell_type": "code",
      "execution_count": 1,
      "metadata": {},
      "outputs": [],
      "source": [
       "ACCOMPANIMENT_PATH = \"output/input/accompaniment.wav\"\n",
       "VOCALS_PATH = \"output/input/vocals.wav\""
      ]
     },
     {
      "cell_type": "code",
      "execution_count": null,
      "metadata": {},
      "outputs": [],
      "source": [
       "import whisper\n",
       "\n",
       "model = whisper.load_model(\"small\")\n",
       "result = model.transcribe(VOCALS_PATH)\n",
       "print(result[\"text\"])"
      ]
     },
     {
      "cell_type": "code",
      "execution_count": null,
      "metadata": {},
      "outputs": [],
      "source": [
       "[(i['start'], i['end'], i['text']) for i in result['segments']]\n",
       "result"
      ]
     },
     {
      "cell_type": "code",
      "execution_count": 6,
      "metadata": {},
      "outputs": [
       {
        "name": "stdout",
        "output_type": "stream",
        "text": [
         "Extracting audio from input.wav...\n",
         "{'input.wav': '/tmp/input.wav'}\n",
         "/tmp/input.wav\n",
         "Generating subtitles for input... This might take a while.\n",
         "/tmp/input.wav\n"
        ]
       },
       {
        "data": {
         "text/plain": [
          "{'input.wav': 'output/input.srt'}"
         ]
        },
        "execution_count": 6,
        "metadata": {},
        "output_type": "execute_result"
       }
      ],
      "source": [
       "import auto_subtitle.as_cli as as_cli\n",
       "import importlib\n",
       "importlib.reload(as_cli)\n",
       "audios = as_cli.get_audio([FILE_PATH])\n",
       "as_cli.get_subtitles(audios, True, 'output', lambda audio_path: model.transcribe(audio_path))\n",
       "\n",
       "\n"
      ]
     },
     {
      "cell_type": "code",
      "execution_count": 7,
      "metadata": {},
      "outputs": [
       {
        "name": "stdout",
        "output_type": "stream",
        "text": [
         "  % Total    % Received % Xferd  Average Speed   Time    Time     Time  Current\n",
         "                                 Dload  Upload   Total   Spent    Left  Speed\n",
         "100 7823k  100 7823k    0     0  3300k      0  0:00:02  0:00:02 --:--:-- 3300k\n"
        ]
       }
      ],
      "source": [
       "!curl https://files.pythonhosted.org/packages/90/fe/3be367996fd7e68b6409fd4f172893b4b88fad04cba75003c754f011cab1/deepspeech-0.9.3-cp39-cp39-win_amd64.whl -O"
      ]
     },
     {
      "cell_type": "code",
      "execution_count": null,
      "metadata": {},
      "outputs": [],
      "source": []
     }
    ],
    "metadata": {
     "kernelspec": {
      "display_name": "Python 3",
      "language": "python",
      "name": "python3"
     },
     "language_info": {
      "codemirror_mode": {
       "name": "ipython",
       "version": 3
      },
      "file_extension": ".py",
      "mimetype": "text/x-python",
      "name": "python",
      "nbconvert_exporter": "python",
      "pygments_lexer": "ipython3",
      "version": "3.10.4"
     },
     "orig_nbformat": 4
    },
    "nbformat": 4,
    "nbformat_minor": 2
   }
   