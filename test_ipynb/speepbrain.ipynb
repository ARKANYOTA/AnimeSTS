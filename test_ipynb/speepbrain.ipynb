{
    "cells": [
     {
      "cell_type": "code",
      "execution_count": null,
      "metadata": {},
      "outputs": [],
      "source": [
       "%pip install speechbrain\n",
       "%pip install pydub"
      ]
     },
     {
      "cell_type": "code",
      "execution_count": 2,
      "metadata": {},
      "outputs": [
       {
        "name": "stderr",
        "output_type": "stream",
        "text": [
         "/home/codespace/.python/current/lib/python3.10/site-packages/tqdm/auto.py:21: TqdmWarning: IProgress not found. Please update jupyter and ipywidgets. See https://ipywidgets.readthedocs.io/en/stable/user_install.html\n",
         "  from .autonotebook import tqdm as notebook_tqdm\n",
         "torchvision is not available - cannot save figures\n"
        ]
       }
      ],
      "source": [
       "import torchaudio\n",
       "from speechbrain.pretrained import EncoderClassifier\n",
       "classifier = EncoderClassifier.from_hparams(source=\"speechbrain/spkrec-xvect-voxceleb\")"
      ]
     },
     {
      "cell_type": "code",
      "execution_count": 3,
      "metadata": {},
      "outputs": [],
      "source": [
       "signal, fs = torchaudio.load('output.wav')\n",
       "\n"
      ]
     },
     {
      "cell_type": "code",
      "execution_count": 1,
      "metadata": {},
      "outputs": [
       {
        "name": "stdout",
        "output_type": "stream",
        "text": [
         "[(0.0, 1477.099)]\n"
        ]
       }
      ],
      "source": [
       "from pydub import AudioSegment, silence\n",
       "\n",
       "myaudio = AudioSegment.from_wav(\"output.wav\")\n",
       "\n",
       "silence = silence.detect_silence(myaudio, min_silence_len=1000, silence_thresh=-16)\n",
       "\n",
       "silence = [((start/1000),(stop/1000)) for start,stop in silence] #convert to sec\n",
       "\n",
       "print(silence)\n"
      ]
     },
     {
      "cell_type": "code",
      "execution_count": 3,
      "metadata": {},
      "outputs": [],
      "source": [
       "from pydub import AudioSegment, silence\n",
       "\n",
       "silence = silence.detect_silence(myaudio, min_silence_len=200, silence_thresh=-16)"
      ]
     },
     {
      "cell_type": "code",
      "execution_count": 4,
      "metadata": {},
      "outputs": [],
      "source": [
       "silence = [((start/1000),(stop/1000)) for start,stop in silence] #convert to sec\n"
      ]
     },
     {
      "cell_type": "code",
      "execution_count": 5,
      "metadata": {},
      "outputs": [
       {
        "name": "stdout",
        "output_type": "stream",
        "text": [
         "[(0.0, 1477.099)]\n"
        ]
       }
      ],
      "source": [
       "print(silence)"
      ]
     },
     {
      "cell_type": "code",
      "execution_count": 4,
      "metadata": {},
      "outputs": [
       {
        "name": "stderr",
        "output_type": "stream",
        "text": [
         "/home/codespace/.python/current/lib/python3.10/site-packages/torch/functional.py:641: UserWarning: stft with return_complex=False is deprecated. In a future pytorch release, stft will return complex tensors for all inputs, and return_complex=False will raise an error.\n",
         "Note: you can still call torch.view_as_real on the complex output to recover the old return format. (Triggered internally at ../aten/src/ATen/native/SpectralOps.cpp:862.)\n",
         "  return _VF.stft(input, n_fft, hop_length, win_length, window,  # type: ignore[attr-defined]\n"
        ]
       },
       {
        "ename": "",
        "evalue": "",
        "output_type": "error",
        "traceback": [
         "\u001b[1;31mCanceled future for execute_request message before replies were done"
        ]
       },
       {
        "ename": "",
        "evalue": "",
        "output_type": "error",
        "traceback": [
         "\u001b[1;31mThe Kernel crashed while executing code in the the current cell or a previous cell. Please review the code in the cell(s) to identify a possible cause of the failure. Click <a href='https://aka.ms/vscodeJupyterKernelCrash'>here</a> for more info. View Jupyter <a href='command:jupyter.viewOutput'>log</a> for further details."
        ]
       }
      ],
      "source": [
       "embeddings = classifier.encode_batch(signal)\n",
       "\n"
      ]
     },
     {
      "cell_type": "code",
      "execution_count": null,
      "metadata": {},
      "outputs": [],
      "source": [
       "# Perform classification\n",
       "output_probs, score, index, text_lab = classifier.classify_batch(signal)\n",
       "\n",
       "# Posterior log probabilities\n",
       "print(output_probs)\n",
       "\n",
       "# Score (i.e, max log posteriors)\n",
       "print(score)\n",
       "\n",
       "# Index of the predicted speaker\n",
       "print(index)\n",
       "\n",
       "# Text label of the predicted speaker\n",
       "print(text_lab)\n"
      ]
     }
    ],
    "metadata": {
     "kernelspec": {
      "display_name": "Python 3",
      "language": "python",
      "name": "python3"
     },
     "language_info": {
      "codemirror_mode": {
       "name": "ipython",
       "version": 3
      },
      "file_extension": ".py",
      "mimetype": "text/x-python",
      "name": "python",
      "nbconvert_exporter": "python",
      "pygments_lexer": "ipython3",
      "version": "3.10.4"
     },
     "orig_nbformat": 4
    },
    "nbformat": 4,
    "nbformat_minor": 2
   }
   